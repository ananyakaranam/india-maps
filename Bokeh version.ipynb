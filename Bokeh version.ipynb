{
 "cells": [
  {
   "cell_type": "code",
   "execution_count": 1,
   "metadata": {},
   "outputs": [],
   "source": [
    "import pandas as pd\n",
    "import geopandas as gpd"
   ]
  },
  {
   "cell_type": "code",
   "execution_count": 2,
   "metadata": {},
   "outputs": [
    {
     "data": {
      "text/html": [
       "<div>\n",
       "<style scoped>\n",
       "    .dataframe tbody tr th:only-of-type {\n",
       "        vertical-align: middle;\n",
       "    }\n",
       "\n",
       "    .dataframe tbody tr th {\n",
       "        vertical-align: top;\n",
       "    }\n",
       "\n",
       "    .dataframe thead th {\n",
       "        text-align: right;\n",
       "    }\n",
       "</style>\n",
       "<table border=\"1\" class=\"dataframe\">\n",
       "  <thead>\n",
       "    <tr style=\"text-align: right;\">\n",
       "      <th></th>\n",
       "      <th>id</th>\n",
       "      <th>dt_code</th>\n",
       "      <th>district</th>\n",
       "      <th>st_code</th>\n",
       "      <th>year</th>\n",
       "      <th>st_nm</th>\n",
       "      <th>geometry</th>\n",
       "    </tr>\n",
       "  </thead>\n",
       "  <tbody>\n",
       "    <tr>\n",
       "      <td>0</td>\n",
       "      <td>None</td>\n",
       "      <td>588</td>\n",
       "      <td>Kasaragod</td>\n",
       "      <td>32</td>\n",
       "      <td>2011_c</td>\n",
       "      <td>Kerala</td>\n",
       "      <td>POLYGON ((75.41444 12.28996, 75.39198 12.29033...</td>\n",
       "    </tr>\n",
       "    <tr>\n",
       "      <td>1</td>\n",
       "      <td>None</td>\n",
       "      <td>590</td>\n",
       "      <td>Wayanad</td>\n",
       "      <td>32</td>\n",
       "      <td>2011_c</td>\n",
       "      <td>Kerala</td>\n",
       "      <td>POLYGON ((75.93655 11.94096, 75.93692 11.94170...</td>\n",
       "    </tr>\n",
       "    <tr>\n",
       "      <td>2</td>\n",
       "      <td>None</td>\n",
       "      <td>591</td>\n",
       "      <td>Kozhikode</td>\n",
       "      <td>32</td>\n",
       "      <td>2011_c</td>\n",
       "      <td>Kerala</td>\n",
       "      <td>POLYGON ((75.79406 11.78962, 75.78338 11.75973...</td>\n",
       "    </tr>\n",
       "    <tr>\n",
       "      <td>3</td>\n",
       "      <td>None</td>\n",
       "      <td>592</td>\n",
       "      <td>Malappuram</td>\n",
       "      <td>32</td>\n",
       "      <td>2011_c</td>\n",
       "      <td>Kerala</td>\n",
       "      <td>POLYGON ((76.14275 11.45071, 76.18583 11.47275...</td>\n",
       "    </tr>\n",
       "    <tr>\n",
       "      <td>4</td>\n",
       "      <td>None</td>\n",
       "      <td>593</td>\n",
       "      <td>Palakkad</td>\n",
       "      <td>32</td>\n",
       "      <td>2011_c</td>\n",
       "      <td>Kerala</td>\n",
       "      <td>POLYGON ((76.06911 10.73028, 76.06837 10.73290...</td>\n",
       "    </tr>\n",
       "  </tbody>\n",
       "</table>\n",
       "</div>"
      ],
      "text/plain": [
       "     id dt_code    district st_code    year   st_nm  \\\n",
       "0  None     588   Kasaragod      32  2011_c  Kerala   \n",
       "1  None     590     Wayanad      32  2011_c  Kerala   \n",
       "2  None     591   Kozhikode      32  2011_c  Kerala   \n",
       "3  None     592  Malappuram      32  2011_c  Kerala   \n",
       "4  None     593    Palakkad      32  2011_c  Kerala   \n",
       "\n",
       "                                            geometry  \n",
       "0  POLYGON ((75.41444 12.28996, 75.39198 12.29033...  \n",
       "1  POLYGON ((75.93655 11.94096, 75.93692 11.94170...  \n",
       "2  POLYGON ((75.79406 11.78962, 75.78338 11.75973...  \n",
       "3  POLYGON ((76.14275 11.45071, 76.18583 11.47275...  \n",
       "4  POLYGON ((76.06911 10.73028, 76.06837 10.73290...  "
      ]
     },
     "execution_count": 2,
     "metadata": {},
     "output_type": "execute_result"
    }
   ],
   "source": [
    "# Read in shapefile and examine data\n",
    "kerala = gpd.read_file('maps/kerala.json')\n",
    "kerala.head()"
   ]
  },
  {
   "cell_type": "code",
   "execution_count": 3,
   "metadata": {},
   "outputs": [],
   "source": [
    "datafile = 'csvs/kerala.csv'"
   ]
  },
  {
   "cell_type": "code",
   "execution_count": 4,
   "metadata": {},
   "outputs": [
    {
     "data": {
      "text/html": [
       "<div>\n",
       "<style scoped>\n",
       "    .dataframe tbody tr th:only-of-type {\n",
       "        vertical-align: middle;\n",
       "    }\n",
       "\n",
       "    .dataframe tbody tr th {\n",
       "        vertical-align: top;\n",
       "    }\n",
       "\n",
       "    .dataframe thead th {\n",
       "        text-align: right;\n",
       "    }\n",
       "</style>\n",
       "<table border=\"1\" class=\"dataframe\">\n",
       "  <thead>\n",
       "    <tr style=\"text-align: right;\">\n",
       "      <th></th>\n",
       "      <th>district</th>\n",
       "      <th>R</th>\n",
       "      <th>Rproj</th>\n",
       "    </tr>\n",
       "  </thead>\n",
       "  <tbody>\n",
       "    <tr>\n",
       "      <td>0</td>\n",
       "      <td>Alappuzha</td>\n",
       "      <td>2.194601</td>\n",
       "      <td>3.867043</td>\n",
       "    </tr>\n",
       "    <tr>\n",
       "      <td>1</td>\n",
       "      <td>Ernakulam</td>\n",
       "      <td>1.000000</td>\n",
       "      <td>1.000000</td>\n",
       "    </tr>\n",
       "    <tr>\n",
       "      <td>2</td>\n",
       "      <td>Idukki</td>\n",
       "      <td>NaN</td>\n",
       "      <td>NaN</td>\n",
       "    </tr>\n",
       "    <tr>\n",
       "      <td>3</td>\n",
       "      <td>Kannur</td>\n",
       "      <td>3.059031</td>\n",
       "      <td>5.941673</td>\n",
       "    </tr>\n",
       "    <tr>\n",
       "      <td>4</td>\n",
       "      <td>Kasaragod</td>\n",
       "      <td>0.038613</td>\n",
       "      <td>-1.307328</td>\n",
       "    </tr>\n",
       "  </tbody>\n",
       "</table>\n",
       "</div>"
      ],
      "text/plain": [
       "    district         R     Rproj\n",
       "0  Alappuzha  2.194601  3.867043\n",
       "1  Ernakulam  1.000000  1.000000\n",
       "2     Idukki       NaN       NaN\n",
       "3     Kannur  3.059031  5.941673\n",
       "4  Kasaragod  0.038613 -1.307328"
      ]
     },
     "execution_count": 4,
     "metadata": {},
     "output_type": "execute_result"
    }
   ],
   "source": [
    "df = pd.read_csv(datafile, names = ['district', 'R', 'Rproj'], skiprows = 1)\n",
    "df.head()"
   ]
  },
  {
   "cell_type": "code",
   "execution_count": 5,
   "metadata": {},
   "outputs": [
    {
     "data": {
      "text/html": [
       "<div>\n",
       "<style scoped>\n",
       "    .dataframe tbody tr th:only-of-type {\n",
       "        vertical-align: middle;\n",
       "    }\n",
       "\n",
       "    .dataframe tbody tr th {\n",
       "        vertical-align: top;\n",
       "    }\n",
       "\n",
       "    .dataframe thead th {\n",
       "        text-align: right;\n",
       "    }\n",
       "</style>\n",
       "<table border=\"1\" class=\"dataframe\">\n",
       "  <thead>\n",
       "    <tr style=\"text-align: right;\">\n",
       "      <th></th>\n",
       "      <th>id</th>\n",
       "      <th>dt_code</th>\n",
       "      <th>district</th>\n",
       "      <th>st_code</th>\n",
       "      <th>year</th>\n",
       "      <th>st_nm</th>\n",
       "      <th>geometry</th>\n",
       "      <th>R</th>\n",
       "      <th>Rproj</th>\n",
       "    </tr>\n",
       "  </thead>\n",
       "  <tbody>\n",
       "    <tr>\n",
       "      <td>0</td>\n",
       "      <td>None</td>\n",
       "      <td>588</td>\n",
       "      <td>Kasaragod</td>\n",
       "      <td>32</td>\n",
       "      <td>2011_c</td>\n",
       "      <td>Kerala</td>\n",
       "      <td>POLYGON ((75.41444 12.28996, 75.39198 12.29033...</td>\n",
       "      <td>0.038613</td>\n",
       "      <td>-1.307328</td>\n",
       "    </tr>\n",
       "    <tr>\n",
       "      <td>1</td>\n",
       "      <td>None</td>\n",
       "      <td>590</td>\n",
       "      <td>Wayanad</td>\n",
       "      <td>32</td>\n",
       "      <td>2011_c</td>\n",
       "      <td>Kerala</td>\n",
       "      <td>POLYGON ((75.93655 11.94096, 75.93692 11.94170...</td>\n",
       "      <td>0.989879</td>\n",
       "      <td>0.975709</td>\n",
       "    </tr>\n",
       "    <tr>\n",
       "      <td>2</td>\n",
       "      <td>None</td>\n",
       "      <td>591</td>\n",
       "      <td>Kozhikode</td>\n",
       "      <td>32</td>\n",
       "      <td>2011_c</td>\n",
       "      <td>Kerala</td>\n",
       "      <td>POLYGON ((75.79406 11.78962, 75.78338 11.75973...</td>\n",
       "      <td>0.179942</td>\n",
       "      <td>-0.968138</td>\n",
       "    </tr>\n",
       "    <tr>\n",
       "      <td>3</td>\n",
       "      <td>None</td>\n",
       "      <td>592</td>\n",
       "      <td>Malappuram</td>\n",
       "      <td>32</td>\n",
       "      <td>2011_c</td>\n",
       "      <td>Kerala</td>\n",
       "      <td>POLYGON ((76.14275 11.45071, 76.18583 11.47275...</td>\n",
       "      <td>1.634256</td>\n",
       "      <td>2.522214</td>\n",
       "    </tr>\n",
       "    <tr>\n",
       "      <td>4</td>\n",
       "      <td>None</td>\n",
       "      <td>593</td>\n",
       "      <td>Palakkad</td>\n",
       "      <td>32</td>\n",
       "      <td>2011_c</td>\n",
       "      <td>Kerala</td>\n",
       "      <td>POLYGON ((76.06911 10.73028, 76.06837 10.73290...</td>\n",
       "      <td>4.874815</td>\n",
       "      <td>10.299556</td>\n",
       "    </tr>\n",
       "  </tbody>\n",
       "</table>\n",
       "</div>"
      ],
      "text/plain": [
       "     id dt_code    district st_code    year   st_nm  \\\n",
       "0  None     588   Kasaragod      32  2011_c  Kerala   \n",
       "1  None     590     Wayanad      32  2011_c  Kerala   \n",
       "2  None     591   Kozhikode      32  2011_c  Kerala   \n",
       "3  None     592  Malappuram      32  2011_c  Kerala   \n",
       "4  None     593    Palakkad      32  2011_c  Kerala   \n",
       "\n",
       "                                            geometry         R      Rproj  \n",
       "0  POLYGON ((75.41444 12.28996, 75.39198 12.29033...  0.038613  -1.307328  \n",
       "1  POLYGON ((75.93655 11.94096, 75.93692 11.94170...  0.989879   0.975709  \n",
       "2  POLYGON ((75.79406 11.78962, 75.78338 11.75973...  0.179942  -0.968138  \n",
       "3  POLYGON ((76.14275 11.45071, 76.18583 11.47275...  1.634256   2.522214  \n",
       "4  POLYGON ((76.06911 10.73028, 76.06837 10.73290...  4.874815  10.299556  "
      ]
     },
     "execution_count": 5,
     "metadata": {},
     "output_type": "execute_result"
    }
   ],
   "source": [
    "merged = kerala.merge(df, on = 'district', how = 'left')\n",
    "merged.head()"
   ]
  },
  {
   "cell_type": "code",
   "execution_count": 6,
   "metadata": {},
   "outputs": [],
   "source": [
    "import json\n",
    "#Read data to json.\n",
    "merged_json = json.loads(merged.to_json())\n",
    "#Convert to String like object.\n",
    "json_data = json.dumps(merged_json)"
   ]
  },
  {
   "cell_type": "code",
   "execution_count": 7,
   "metadata": {},
   "outputs": [],
   "source": [
    "from bokeh.io import output_notebook, show, output_file, save\n",
    "from bokeh.plotting import figure\n",
    "from bokeh.models import GeoJSONDataSource, LinearColorMapper, ColorBar, HoverTool\n",
    "from bokeh.palettes import brewer"
   ]
  },
  {
   "cell_type": "code",
   "execution_count": 8,
   "metadata": {},
   "outputs": [],
   "source": [
    "#Input GeoJSON source that contains features for plotting.\n",
    "geosource = GeoJSONDataSource(geojson = json_data)\n",
    "#Define a sequential multi-hue color palette.\n",
    "palette = brewer['Blues'][7]\n",
    "#Reverse color order so that dark blue is highest obesity.\n",
    "palette = palette[::-1]\n",
    "#Instantiate LinearColorMapper that linearly maps numbers in a range, into a sequence of colors.\n",
    "color_mapper = LinearColorMapper(palette = palette, low = 0, high = 14)\n",
    "#Define custom tick labels for color bar.\n",
    "tick_labels = {'0': '0','3': '3', '6': '6', '9': '9', '12': '12', '15': '15'}"
   ]
  },
  {
   "cell_type": "code",
   "execution_count": 9,
   "metadata": {},
   "outputs": [],
   "source": [
    "color_bar = ColorBar(color_mapper=color_mapper, label_standoff=8,width = 500, height = 20,\n",
    "border_line_color=None,location = (0,0), orientation = 'horizontal', major_label_overrides = tick_labels)"
   ]
  },
  {
   "cell_type": "code",
   "execution_count": null,
   "metadata": {},
   "outputs": [],
   "source": [
    "current = figure(title = 'R by district', plot_height = 900 , plot_width = 600, toolbar_location = None)\n",
    "current.xgrid.grid_line_color = None\n",
    "current.ygrid.grid_line_color = None"
   ]
  },
  {
   "cell_type": "code",
   "execution_count": null,
   "metadata": {},
   "outputs": [],
   "source": [
    "cdistricts = current.patches('xs','ys', source = geosource,fill_color = {'field' :'R', 'transform' : color_mapper},\n",
    "          line_color = 'black', line_width = 0.25, fill_alpha = 1)"
   ]
  },
  {
   "cell_type": "code",
   "execution_count": null,
   "metadata": {},
   "outputs": [],
   "source": [
    "current.add_tools(HoverTool(renderers = [cdistricts],\n",
    "                      tooltips = [('District','@district'),\n",
    "                               ('Current R', '@R')]))\n",
    "current.add_layout(color_bar, 'below')\n",
    "#output_notebook()\n",
    "show(current)\n",
    "output_file('kerala_current.html')\n",
    "save(current)"
   ]
  },
  {
   "cell_type": "code",
   "execution_count": 10,
   "metadata": {},
   "outputs": [
    {
     "data": {
      "text/plain": [
       "'/Users/ananyakaranam/Desktop/India_Map/kerala_projected.html'"
      ]
     },
     "execution_count": 10,
     "metadata": {},
     "output_type": "execute_result"
    }
   ],
   "source": [
    "proj = figure(title = 'R by district', plot_height = 900 , plot_width = 600, toolbar_location = None)\n",
    "proj.xgrid.grid_line_color = None\n",
    "proj.ygrid.grid_line_color = None\n",
    "pdistricts = proj.patches('xs','ys', source = geosource,fill_color = {'field' :'Rproj', 'transform' : color_mapper},\n",
    "          line_color = 'black', line_width = 0.25, fill_alpha = 1)\n",
    "\n",
    "proj.add_tools(HoverTool(renderers = [pdistricts],\n",
    "                      tooltips = [('District','@district'),\n",
    "                               ('Projected R', '@R')]))\n",
    "proj.add_layout(color_bar, 'below')\n",
    "output_file('kerala_projected.html')\n",
    "save(proj)"
   ]
  },
  {
   "cell_type": "code",
   "execution_count": null,
   "metadata": {},
   "outputs": [],
   "source": []
  }
 ],
 "metadata": {
  "kernelspec": {
   "display_name": "Python 3",
   "language": "python",
   "name": "python3"
  },
  "language_info": {
   "codemirror_mode": {
    "name": "ipython",
    "version": 3
   },
   "file_extension": ".py",
   "mimetype": "text/x-python",
   "name": "python",
   "nbconvert_exporter": "python",
   "pygments_lexer": "ipython3",
   "version": "3.7.4"
  }
 },
 "nbformat": 4,
 "nbformat_minor": 2
}

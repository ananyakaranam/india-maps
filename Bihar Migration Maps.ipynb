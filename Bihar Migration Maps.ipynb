{
 "cells": [
  {
   "cell_type": "code",
   "execution_count": null,
   "metadata": {},
   "outputs": [],
   "source": [
    "#importing all necessary packages\n",
    "import pandas as pd\n",
    "import geopandas as gpd\n",
    "import json\n",
    "from bokeh.io import output_notebook, show, output_file, save, export_png\n",
    "from bokeh.plotting import figure\n",
    "from bokeh.models import GeoJSONDataSource, LinearColorMapper, ColorBar\n",
    "from bokeh.palettes import brewer"
   ]
  },
  {
   "cell_type": "code",
   "execution_count": null,
   "metadata": {},
   "outputs": [],
   "source": [
    "#saving map shapefile\n",
    "india = gpd.read_file('shapefile')\n",
    "india.head()"
   ]
  },
  {
   "cell_type": "code",
   "execution_count": null,
   "metadata": {},
   "outputs": [],
   "source": [
    "#import datafile\n",
    "datafile = 'data.csv'\n",
    "df = pd.read_csv(datafile, names = ['ST_NM', 'state_pos', 'migrant_pos'], skiprows = 1)\n",
    "df.head()"
   ]
  },
  {
   "cell_type": "code",
   "execution_count": null,
   "metadata": {},
   "outputs": [],
   "source": [
    "#combine shapefile and prevalence data\n",
    "merged = india.merge(df, left_on = 'ST_NM', right_on = 'ST_NM')"
   ]
  },
  {
   "cell_type": "code",
   "execution_count": null,
   "metadata": {},
   "outputs": [],
   "source": [
    "#convert to GeoJSON\n",
    "merged_json = json.loads(merged.to_json())\n",
    "json_data = json.dumps(merged_json)"
   ]
  },
  {
   "cell_type": "code",
   "execution_count": null,
   "metadata": {},
   "outputs": [],
   "source": [
    "#set up map info\n",
    "geosource = GeoJSONDataSource(geojson = json_data)\n",
    "palette = brewer['OrRd'][8]\n",
    "palette = palette[::-1]\n",
    "color_mapper = LinearColorMapper(palette = palette, low = 0, high = .16, nan_color = '#d9d9d9')\n",
    "tick_labels = {'0': '0%', '0.02': '2%', '0.04': '4%', '0.06': '6%', '0.08':'8%', '0.1': '10%', \n",
    "               '0.12':'12%', '0.14': '14%', '0.16':'>16%'}\n",
    "color_bar = ColorBar(color_mapper=color_mapper, label_standoff=8,width = 500, height = 20,\n",
    "border_line_color=None,location = (0,0), orientation = 'horizontal', major_label_overrides = tick_labels)"
   ]
  },
  {
   "cell_type": "code",
   "execution_count": null,
   "metadata": {},
   "outputs": [],
   "source": [
    "#create and save figure\n",
    "migrant = figure(title = 'Returning worker positives rates (no data in gray regions)', plot_height = 800 , plot_width = 650, toolbar_location = None)\n",
    "migrant.xgrid.grid_line_color = None\n",
    "migrant.ygrid.grid_line_color = None\n",
    "migrant.patches('xs','ys', source = geosource,fill_color = {'field' :'migrant_pos', 'transform' : color_mapper},\n",
    "          line_color = 'black', line_width = 0.25, fill_alpha = 1)\n",
    "\n",
    "migrant.add_layout(color_bar, 'below')\n",
    "output_notebook()\n",
    "show(migrant)\n",
    "export_png(migrant, filename = 'migrant.png')"
   ]
  },
  {
   "cell_type": "code",
   "execution_count": null,
   "metadata": {},
   "outputs": [],
   "source": [
    "#repeat for state reported data\n",
    "state = figure(title = 'State-reported positives rates (no data in gray regions)', plot_height = 800 , plot_width = 650, toolbar_location = None)\n",
    "state.xgrid.grid_line_color = None\n",
    "state.ygrid.grid_line_color = None\n",
    "state.patches('xs','ys', source = geosource,fill_color = {'field' :'state_pos', 'transform' : color_mapper},\n",
    "          line_color = 'black', line_width = 0.25, fill_alpha = 1)\n",
    "\n",
    "state.add_layout(color_bar, 'below')\n",
    "output_notebook()\n",
    "show(state)\n",
    "export_png(state, filename = 'state.png')"
   ]
  },
  {
   "cell_type": "code",
   "execution_count": null,
   "metadata": {},
   "outputs": [],
   "source": []
  }
 ],
 "metadata": {
  "kernelspec": {
   "display_name": "Python 3",
   "language": "python",
   "name": "python3"
  },
  "language_info": {
   "codemirror_mode": {
    "name": "ipython",
    "version": 3
   },
   "file_extension": ".py",
   "mimetype": "text/x-python",
   "name": "python",
   "nbconvert_exporter": "python",
   "pygments_lexer": "ipython3",
   "version": "3.7.4"
  }
 },
 "nbformat": 4,
 "nbformat_minor": 2
}
